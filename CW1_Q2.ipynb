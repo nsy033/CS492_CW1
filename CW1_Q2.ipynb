{
  "nbformat": 4,
  "nbformat_minor": 0,
  "metadata": {
    "colab": {
      "provenance": [],
      "collapsed_sections": []
    },
    "kernelspec": {
      "name": "python3",
      "display_name": "Python 3"
    },
    "language_info": {
      "name": "python"
    }
  },
  "cells": [
    {
      "cell_type": "markdown",
      "source": [
        "## Prepare for learning"
      ],
      "metadata": {
        "id": "YAIsroCl_FRZ"
      }
    },
    {
      "cell_type": "code",
      "metadata": {
        "id": "IJepdwudPdWG"
      },
      "source": [
        "from google.colab import drive\n",
        "import numpy as np\n",
        "import scipy.io as sio\n",
        "import matplotlib.pyplot as plt\n",
        "from scipy import ndimage\n",
        "import time\n",
        "from sklearn.neighbors import KNeighborsClassifier"
      ],
      "execution_count": null,
      "outputs": []
    },
    {
      "cell_type": "markdown",
      "source": [
        "### Load Dataset"
      ],
      "metadata": {
        "id": "eJ4K72jE_H7O"
      }
    },
    {
      "cell_type": "code",
      "source": [
        "drive.mount('/content/drive')\n",
        "mat = sio.loadmat('/content/drive/MyDrive/face.mat')\n",
        "\n",
        "imgs_raw = mat['X']\n",
        "labels = mat['l'][0]\n",
        "print(imgs_raw.shape, labels.shape)"
      ],
      "metadata": {
        "colab": {
          "base_uri": "https://localhost:8080/"
        },
        "id": "rfcalHhfHply",
        "outputId": "fc5857fc-99bb-4a80-b751-a65cc9b9e5e9"
      },
      "execution_count": null,
      "outputs": [
        {
          "output_type": "stream",
          "name": "stdout",
          "text": [
            "Mounted at /content/drive\n",
            "(2576, 520) (520,)\n"
          ]
        }
      ]
    },
    {
      "cell_type": "code",
      "source": [
        "imgs = [img_raw.reshape((46,56)) for img_raw in imgs_raw.T]"
      ],
      "metadata": {
        "id": "pW1WC2pwJYol"
      },
      "execution_count": null,
      "outputs": []
    },
    {
      "cell_type": "markdown",
      "source": [
        "### Split data into train dataset and test dataset(8(2:2:2:2):2)"
      ],
      "metadata": {
        "id": "WMoFWJoT_MHB"
      }
    },
    {
      "cell_type": "code",
      "source": [
        "'''\n",
        "split data into train dataset and test dataset(8(2:2:2:2):2)\n",
        "'''\n",
        "\n",
        "idx = np.array([[0, 0, 1, 1, 2, 2, 3, 3, 4, 4]]*52)\n",
        "for i, j in enumerate(idx):\n",
        "  idx[i] = np.random.permutation(j)\n",
        "  \n",
        "idx = idx.flatten()\n",
        "\n",
        "train_imgs_raw_1 = np.array([i[idx==1] for i in imgs_raw])\n",
        "train_imgs_raw_2 = np.array([i[idx==2] for i in imgs_raw])\n",
        "train_imgs_raw_3 = np.array([i[idx==3] for i in imgs_raw])\n",
        "train_imgs_raw_4 = np.array([i[idx==4] for i in imgs_raw])\n",
        "train_imgs_raw = np.array([i[idx!=0] for i in imgs_raw])\n",
        "test_imgs_raw = np.array([i[idx==0] for i in imgs_raw])\n",
        "train_labels_1 = labels[idx==1]\n",
        "train_labels_2 = labels[idx==2]\n",
        "train_labels_3 = labels[idx==3]\n",
        "train_labels_4 = labels[idx==4]\n",
        "train_labels = labels[idx!=0]\n",
        "test_labels = labels[idx==0]\n",
        "\n",
        "print(\"Data Dimension\")\n",
        "print(\"train_imgs_raw : \", len(train_imgs_raw_1),\" * \", len(train_imgs_raw_1[0]))\n",
        "print(\"test_imgs_raw  : \", len(test_imgs_raw),\" * \",  len(test_imgs_raw[0]))\n",
        "print(\"train_labels : \", len(train_labels_1))\n",
        "print(\"test_labels  : \", len(test_labels))"
      ],
      "metadata": {
        "colab": {
          "base_uri": "https://localhost:8080/"
        },
        "id": "bghUQahqJefu",
        "outputId": "e6e3a2c5-9e21-480f-a912-383c872b29a3"
      },
      "execution_count": null,
      "outputs": [
        {
          "output_type": "stream",
          "name": "stdout",
          "text": [
            "Data Dimension\n",
            "train_imgs_raw :  2576  *  104\n",
            "test_imgs_raw  :  2576  *  104\n",
            "train_labels :  104\n",
            "test_labels  :  104\n"
          ]
        }
      ]
    },
    {
      "cell_type": "markdown",
      "source": [
        "## 2. Incremental PCA"
      ],
      "metadata": {
        "id": "m3WYw68w_Ug2"
      }
    },
    {
      "cell_type": "code",
      "source": [
        "def PCA(train_imgs_raw, M):\n",
        "  avg = np.mean(train_imgs_raw, axis=1)\n",
        "  A = (train_imgs_raw.T-avg).T\n",
        "\n",
        "  S_low = np.dot(A.T, A)\n",
        "  w_low, v_low = np.linalg.eigh(S_low)\n",
        "  v_low_to_high = np.dot(A, v_low)\n",
        "  start = time.time()\n",
        "  v_low_to_high = v_low_to_high/np.linalg.norm(v_low_to_high, axis=0)\n",
        "  stop = time.time()\n",
        "  P_low = v_low_to_high.T[-M:].T\n",
        "  L_low = np.diag(w_low[-M:])\n",
        "\n",
        "  N = train_imgs_raw.shape[1]\n",
        "\n",
        "  P = P_low\n",
        "  L = L_low\n",
        "\n",
        "  S = np.dot(np.dot(P, L), P.T)\n",
        "\n",
        "  T = stop-start\n",
        "\n",
        "  return avg, N, P, S, T"
      ],
      "metadata": {
        "id": "Pqr-IiyiMhyu"
      },
      "execution_count": null,
      "outputs": []
    },
    {
      "cell_type": "code",
      "source": [
        "def increment_PCA(D):\n",
        "  avg1, N1, P1, S1, T1 = PCA(train_imgs_raw_1, D)\n",
        "\n",
        "  for train_imgs_raw in [train_imgs_raw_2, train_imgs_raw_3, train_imgs_raw_4]:\n",
        "    avg2, N2, P2, S2, T2 = PCA(train_imgs_raw, D)\n",
        "\n",
        "    N3 = N1 + N2\n",
        "    avg3 = (N1*avg1 + N2*avg2)/N3\n",
        "\n",
        "    avg_diff = avg1-avg2\n",
        "    S3 = N1*S1/N3 + N2*S2/N3 + N1*N2*np.dot(avg_diff, avg_diff.T)/N3**2\n",
        "\n",
        "    start = time.time()\n",
        "    Phi, _ = np.linalg.qr(np.concatenate((np.concatenate((P1, P2), axis=1).T, np.array([avg_diff])), axis=0).T)\n",
        "    stop = time.time()\n",
        "\n",
        "    _, R = np.linalg.eigh(np.dot(np.dot(Phi.T, S3), Phi))\n",
        "    P3 = np.dot(Phi, R)\n",
        "    T3 = T1+T2+stop-start\n",
        "\n",
        "    avg1, N1, P1, S1, T1 = avg3, N3, P3, S3, T3\n",
        "\n",
        "    return avg1, N1, P1, S1, T1"
      ],
      "metadata": {
        "id": "L8PSZhvsX6d7"
      },
      "execution_count": null,
      "outputs": []
    },
    {
      "cell_type": "code",
      "source": [
        "'''\n",
        "  Calculate in the original PCA manner\n",
        "'''\n",
        "scoreChartInfo = []\n",
        "reconstructionErrorChartInfo = []\n",
        "\n",
        "m = 150\n",
        "avg_img = np.mean(train_imgs_raw, axis=1)\n",
        "A = (train_imgs_raw.T-avg_img).T\n",
        "\n",
        "S_low = np.dot(A.T, A)\n",
        "start_time = time.time()\n",
        "w_low, v_low = np.linalg.eigh(S_low)\n",
        "end_time = time.time()\n",
        "v_low_to_high = np.dot(A, v_low)\n",
        "v_low_to_high = v_low_to_high/np.linalg.norm(v_low_to_high, axis=0)\n",
        "v_low_to_high = v_low_to_high.T\n",
        "v_final = v_low_to_high[-m:]\n",
        "\n",
        "train_proj = np.dot((train_imgs_raw.T-avg_img), v_final.T)\n",
        "test_proj = np.dot((test_imgs_raw.T-avg_img), v_final.T)\n",
        "\n",
        "for i in range(1, 10):\n",
        "  classifier = KNeighborsClassifier(n_neighbors = i)\n",
        "  classifier.fit(train_proj, train_labels)\n",
        "\n",
        "  train_score = classifier.score(train_proj, train_labels)\n",
        "  test_score = classifier.score(test_proj, test_labels)\n",
        "\n",
        "  scoreChartInfo.append({\"KNN Classifier Score\": train_score, \"k\": i, \"version\": \"original\", \"dataset\": \"train\"})\n",
        "  scoreChartInfo.append({\"KNN Classifier Score\": test_score, \"k\": i, \"version\": \"original\", \"dataset\": \"test\"})\n",
        "  \n",
        "  print(f\"For {i}NN classifier, train score is {train_score} and test score is {test_score}\")\n",
        "\n",
        "train_reconst = np.dot(train_proj, v_final) + avg_img\n",
        "test_reconst = np.dot(test_proj, v_final) + avg_img\n",
        "\n",
        "train_error = np.mean(np.linalg.norm(train_reconst-train_imgs_raw.T, axis = 1))\n",
        "test_error = np.mean(np.linalg.norm(test_reconst-test_imgs_raw.T, axis = 1))\n",
        "\n",
        "time_spent = end_time - start_time\n",
        "reconstructionErrorChartInfo.append({\"Reconstruction Error\": train_error, \"Time Taken\": time_spent, \"version\": \"original\", \"dataset\": \"train\"})\n",
        "reconstructionErrorChartInfo.append({\"Reconstruction Error\": test_error, \"Time Taken\": time_spent, \"version\": \"original\", \"dataset\": \"test\"})\n",
        "\n",
        "print(f\">>>Reconstruction train error is {train_error}\\n>>>Reconstruction test error is {test_error}\\n>>>Time taken: {time_spent}s\\n\")"
      ],
      "metadata": {
        "colab": {
          "base_uri": "https://localhost:8080/"
        },
        "id": "pQhOYibCA8Tl",
        "outputId": "9fc85b0f-75b5-4546-cd1e-f1bf868bebe8"
      },
      "execution_count": null,
      "outputs": [
        {
          "output_type": "stream",
          "name": "stdout",
          "text": [
            "For 1NN classifier, train score is 1.0 and test score is 0.5096153846153846\n",
            "For 2NN classifier, train score is 0.7668269230769231 and test score is 0.47115384615384615\n",
            "For 3NN classifier, train score is 0.7451923076923077 and test score is 0.4423076923076923\n",
            "For 4NN classifier, train score is 0.6995192307692307 and test score is 0.41346153846153844\n",
            "For 5NN classifier, train score is 0.6610576923076923 and test score is 0.41346153846153844\n",
            "For 6NN classifier, train score is 0.6322115384615384 and test score is 0.4326923076923077\n",
            "For 7NN classifier, train score is 0.6033653846153846 and test score is 0.38461538461538464\n",
            "For 8NN classifier, train score is 0.5769230769230769 and test score is 0.3942307692307692\n",
            "For 9NN classifier, train score is 0.5504807692307693 and test score is 0.36538461538461536\n",
            ">>>Reconstruction train error is 405.11380685802385\n",
            ">>>Reconstruction test error is 642.2050579158112\n",
            ">>>Time taken: 0.07824182510375977s\n",
            "\n"
          ]
        }
      ]
    },
    {
      "cell_type": "code",
      "source": [
        "D_list = [10, 50, 70, 150]\n",
        "for D in D_list:\n",
        "  print(f\"Incremental PCA for dimension: {D}\")\n",
        "  avg, N, P, S, T = increment_PCA(D)\n",
        "  train_proj = np.dot((train_imgs_raw.T-avg), P)\n",
        "  test_proj = np.dot((test_imgs_raw.T-avg), P)\n",
        "\n",
        "  for i in range(1, 10):\n",
        "    classifier = KNeighborsClassifier(n_neighbors = i)\n",
        "    classifier.fit(train_proj, train_labels)\n",
        "\n",
        "    train_score = classifier.score(train_proj, train_labels)\n",
        "    test_score = classifier.score(test_proj, test_labels)\n",
        "    \n",
        "    print(f\"    For {i}NN classifier, train score is {train_score} and test score is {test_score}\")\n",
        "    scoreChartInfo.append({\"KNN Classifier Score\": train_score, \"k\": i, \"version\": \"incremental(d=\"+str(D)+\")\", \"dataset\": \"train\"})\n",
        "    scoreChartInfo.append({\"KNN Classifier Score\": test_score, \"k\": i, \"version\": \"incremental(d=\"+str(D)+\")\", \"dataset\": \"test\"})\n",
        "\n",
        "  train_reconst = np.dot(train_proj, P.T) + avg\n",
        "  test_reconst = np.dot(test_proj, P.T) + avg\n",
        "\n",
        "  train_error = np.mean(np.linalg.norm(train_reconst-train_imgs_raw.T, axis = 1))\n",
        "  test_error = np.mean(np.linalg.norm(test_reconst-test_imgs_raw.T, axis = 1))\n",
        "  print(f\"  Reconstruction train error is {train_error}\\n  Reconstruction test error is {test_error}\")\n",
        "  print(f\"  Training time is {T}\\n\\n\")\n",
        "\n",
        "  reconstructionErrorChartInfo.append({\"Reconstruction Error\": train_error, \"Time Taken\": T, \"version\": \"incremental(d=\"+str(D)+\")\", \"dataset\": \"train\"})\n",
        "  reconstructionErrorChartInfo.append({\"Reconstruction Error\": test_error, \"Time Taken\": T, \"version\": \"incremental(d=\"+str(D)+\")\", \"dataset\": \"test\"})"
      ],
      "metadata": {
        "colab": {
          "base_uri": "https://localhost:8080/"
        },
        "id": "CRr7xKI9tylc",
        "outputId": "c7c2694d-74e9-4b69-83ac-05141f61f63d"
      },
      "execution_count": null,
      "outputs": [
        {
          "output_type": "stream",
          "name": "stdout",
          "text": [
            "Incremental PCA for dimension: 10\n",
            "    For 1NN classifier, train score is 1.0 and test score is 0.38461538461538464\n",
            "    For 2NN classifier, train score is 0.7211538461538461 and test score is 0.3942307692307692\n",
            "    For 3NN classifier, train score is 0.6706730769230769 and test score is 0.41346153846153844\n",
            "    For 4NN classifier, train score is 0.6322115384615384 and test score is 0.38461538461538464\n",
            "    For 5NN classifier, train score is 0.6105769230769231 and test score is 0.38461538461538464\n",
            "    For 6NN classifier, train score is 0.5961538461538461 and test score is 0.36538461538461536\n",
            "    For 7NN classifier, train score is 0.5552884615384616 and test score is 0.3557692307692308\n",
            "    For 8NN classifier, train score is 0.5192307692307693 and test score is 0.3557692307692308\n",
            "    For 9NN classifier, train score is 0.4951923076923077 and test score is 0.3269230769230769\n",
            "  Reconstruction train error is 1118.241203422458\n",
            "  Reconstruction test error is 1141.7549975682223\n",
            "  Training time is 0.016466140747070312\n",
            "\n",
            "\n",
            "Incremental PCA for dimension: 50\n",
            "    For 1NN classifier, train score is 1.0 and test score is 0.5384615384615384\n",
            "    For 2NN classifier, train score is 0.7524038461538461 and test score is 0.4807692307692308\n",
            "    For 3NN classifier, train score is 0.7524038461538461 and test score is 0.4519230769230769\n",
            "    For 4NN classifier, train score is 0.7043269230769231 and test score is 0.4230769230769231\n",
            "    For 5NN classifier, train score is 0.6971153846153846 and test score is 0.3942307692307692\n",
            "    For 6NN classifier, train score is 0.6730769230769231 and test score is 0.4230769230769231\n",
            "    For 7NN classifier, train score is 0.6153846153846154 and test score is 0.4230769230769231\n",
            "    For 8NN classifier, train score is 0.5697115384615384 and test score is 0.4423076923076923\n",
            "    For 9NN classifier, train score is 0.5697115384615384 and test score is 0.4230769230769231\n",
            "  Reconstruction train error is 642.037081535883\n",
            "  Reconstruction test error is 792.6521493698257\n",
            "  Training time is 0.02509331703186035\n",
            "\n",
            "\n",
            "Incremental PCA for dimension: 70\n",
            "    For 1NN classifier, train score is 1.0 and test score is 0.5288461538461539\n",
            "    For 2NN classifier, train score is 0.7475961538461539 and test score is 0.4807692307692308\n",
            "    For 3NN classifier, train score is 0.7451923076923077 and test score is 0.4326923076923077\n",
            "    For 4NN classifier, train score is 0.6971153846153846 and test score is 0.4326923076923077\n",
            "    For 5NN classifier, train score is 0.6899038461538461 and test score is 0.40384615384615385\n",
            "    For 6NN classifier, train score is 0.6610576923076923 and test score is 0.4230769230769231\n",
            "    For 7NN classifier, train score is 0.6153846153846154 and test score is 0.40384615384615385\n",
            "    For 8NN classifier, train score is 0.59375 and test score is 0.4230769230769231\n",
            "    For 9NN classifier, train score is 0.5769230769230769 and test score is 0.41346153846153844\n",
            "  Reconstruction train error is 528.8317957019868\n",
            "  Reconstruction test error is 735.0096122484293\n",
            "  Training time is 0.04470396041870117\n",
            "\n",
            "\n",
            "Incremental PCA for dimension: 150\n",
            "    For 1NN classifier, train score is 1.0 and test score is 0.5576923076923077\n",
            "    For 2NN classifier, train score is 0.7548076923076923 and test score is 0.49038461538461536\n",
            "    For 3NN classifier, train score is 0.7451923076923077 and test score is 0.4423076923076923\n",
            "    For 4NN classifier, train score is 0.7019230769230769 and test score is 0.46153846153846156\n",
            "    For 5NN classifier, train score is 0.6826923076923077 and test score is 0.40384615384615385\n",
            "    For 6NN classifier, train score is 0.6418269230769231 and test score is 0.3942307692307692\n",
            "    For 7NN classifier, train score is 0.6225961538461539 and test score is 0.40384615384615385\n",
            "    For 8NN classifier, train score is 0.5841346153846154 and test score is 0.4326923076923077\n",
            "    For 9NN classifier, train score is 0.5889423076923077 and test score is 0.4326923076923077\n",
            "  Reconstruction train error is 347.7391437394757\n",
            "  Reconstruction test error is 676.2200522370562\n",
            "  Training time is 0.05573463439941406\n",
            "\n",
            "\n"
          ]
        }
      ]
    },
    {
      "cell_type": "code",
      "source": [
        "import plotly.express as px\n",
        "px.bar(reconstructionErrorChartInfo, x=\"version\", y=\"Time Taken\", facet_col=\"dataset\")"
      ],
      "metadata": {
        "colab": {
          "base_uri": "https://localhost:8080/",
          "height": 542
        },
        "id": "GltHJGuyBc6j",
        "outputId": "89d18518-cb7b-4501-f9f2-08f82673cfa9"
      },
      "execution_count": null,
      "outputs": [
        {
          "output_type": "display_data",
          "data": {
            "text/html": [
              "<html>\n",
              "<head><meta charset=\"utf-8\" /></head>\n",
              "<body>\n",
              "    <div>            <script src=\"https://cdnjs.cloudflare.com/ajax/libs/mathjax/2.7.5/MathJax.js?config=TeX-AMS-MML_SVG\"></script><script type=\"text/javascript\">if (window.MathJax) {MathJax.Hub.Config({SVG: {font: \"STIX-Web\"}});}</script>                <script type=\"text/javascript\">window.PlotlyConfig = {MathJaxConfig: 'local'};</script>\n",
              "        <script src=\"https://cdn.plot.ly/plotly-2.8.3.min.js\"></script>                <div id=\"7c104ab7-0fa8-4458-a299-6f2f1c2be509\" class=\"plotly-graph-div\" style=\"height:525px; width:100%;\"></div>            <script type=\"text/javascript\">                                    window.PLOTLYENV=window.PLOTLYENV || {};                                    if (document.getElementById(\"7c104ab7-0fa8-4458-a299-6f2f1c2be509\")) {                    Plotly.newPlot(                        \"7c104ab7-0fa8-4458-a299-6f2f1c2be509\",                        [{\"alignmentgroup\":\"True\",\"hovertemplate\":\"dataset=train<br>version=%{x}<br>Time Taken=%{y}<extra></extra>\",\"legendgroup\":\"\",\"marker\":{\"color\":\"#636efa\",\"pattern\":{\"shape\":\"\"}},\"name\":\"\",\"offsetgroup\":\"\",\"orientation\":\"v\",\"showlegend\":false,\"textposition\":\"auto\",\"x\":[\"original\",\"incremental(d=10)\",\"incremental(d=50)\",\"incremental(d=70)\",\"incremental(d=150)\"],\"xaxis\":\"x\",\"y\":[0.07824182510375977,0.016466140747070312,0.02509331703186035,0.04470396041870117,0.05573463439941406],\"yaxis\":\"y\",\"type\":\"bar\"},{\"alignmentgroup\":\"True\",\"hovertemplate\":\"dataset=test<br>version=%{x}<br>Time Taken=%{y}<extra></extra>\",\"legendgroup\":\"\",\"marker\":{\"color\":\"#636efa\",\"pattern\":{\"shape\":\"\"}},\"name\":\"\",\"offsetgroup\":\"\",\"orientation\":\"v\",\"showlegend\":false,\"textposition\":\"auto\",\"x\":[\"original\",\"incremental(d=10)\",\"incremental(d=50)\",\"incremental(d=70)\",\"incremental(d=150)\"],\"xaxis\":\"x2\",\"y\":[0.07824182510375977,0.016466140747070312,0.02509331703186035,0.04470396041870117,0.05573463439941406],\"yaxis\":\"y2\",\"type\":\"bar\"}],                        {\"template\":{\"data\":{\"bar\":[{\"error_x\":{\"color\":\"#2a3f5f\"},\"error_y\":{\"color\":\"#2a3f5f\"},\"marker\":{\"line\":{\"color\":\"#E5ECF6\",\"width\":0.5},\"pattern\":{\"fillmode\":\"overlay\",\"size\":10,\"solidity\":0.2}},\"type\":\"bar\"}],\"barpolar\":[{\"marker\":{\"line\":{\"color\":\"#E5ECF6\",\"width\":0.5},\"pattern\":{\"fillmode\":\"overlay\",\"size\":10,\"solidity\":0.2}},\"type\":\"barpolar\"}],\"carpet\":[{\"aaxis\":{\"endlinecolor\":\"#2a3f5f\",\"gridcolor\":\"white\",\"linecolor\":\"white\",\"minorgridcolor\":\"white\",\"startlinecolor\":\"#2a3f5f\"},\"baxis\":{\"endlinecolor\":\"#2a3f5f\",\"gridcolor\":\"white\",\"linecolor\":\"white\",\"minorgridcolor\":\"white\",\"startlinecolor\":\"#2a3f5f\"},\"type\":\"carpet\"}],\"choropleth\":[{\"colorbar\":{\"outlinewidth\":0,\"ticks\":\"\"},\"type\":\"choropleth\"}],\"contour\":[{\"colorbar\":{\"outlinewidth\":0,\"ticks\":\"\"},\"colorscale\":[[0.0,\"#0d0887\"],[0.1111111111111111,\"#46039f\"],[0.2222222222222222,\"#7201a8\"],[0.3333333333333333,\"#9c179e\"],[0.4444444444444444,\"#bd3786\"],[0.5555555555555556,\"#d8576b\"],[0.6666666666666666,\"#ed7953\"],[0.7777777777777778,\"#fb9f3a\"],[0.8888888888888888,\"#fdca26\"],[1.0,\"#f0f921\"]],\"type\":\"contour\"}],\"contourcarpet\":[{\"colorbar\":{\"outlinewidth\":0,\"ticks\":\"\"},\"type\":\"contourcarpet\"}],\"heatmap\":[{\"colorbar\":{\"outlinewidth\":0,\"ticks\":\"\"},\"colorscale\":[[0.0,\"#0d0887\"],[0.1111111111111111,\"#46039f\"],[0.2222222222222222,\"#7201a8\"],[0.3333333333333333,\"#9c179e\"],[0.4444444444444444,\"#bd3786\"],[0.5555555555555556,\"#d8576b\"],[0.6666666666666666,\"#ed7953\"],[0.7777777777777778,\"#fb9f3a\"],[0.8888888888888888,\"#fdca26\"],[1.0,\"#f0f921\"]],\"type\":\"heatmap\"}],\"heatmapgl\":[{\"colorbar\":{\"outlinewidth\":0,\"ticks\":\"\"},\"colorscale\":[[0.0,\"#0d0887\"],[0.1111111111111111,\"#46039f\"],[0.2222222222222222,\"#7201a8\"],[0.3333333333333333,\"#9c179e\"],[0.4444444444444444,\"#bd3786\"],[0.5555555555555556,\"#d8576b\"],[0.6666666666666666,\"#ed7953\"],[0.7777777777777778,\"#fb9f3a\"],[0.8888888888888888,\"#fdca26\"],[1.0,\"#f0f921\"]],\"type\":\"heatmapgl\"}],\"histogram\":[{\"marker\":{\"pattern\":{\"fillmode\":\"overlay\",\"size\":10,\"solidity\":0.2}},\"type\":\"histogram\"}],\"histogram2d\":[{\"colorbar\":{\"outlinewidth\":0,\"ticks\":\"\"},\"colorscale\":[[0.0,\"#0d0887\"],[0.1111111111111111,\"#46039f\"],[0.2222222222222222,\"#7201a8\"],[0.3333333333333333,\"#9c179e\"],[0.4444444444444444,\"#bd3786\"],[0.5555555555555556,\"#d8576b\"],[0.6666666666666666,\"#ed7953\"],[0.7777777777777778,\"#fb9f3a\"],[0.8888888888888888,\"#fdca26\"],[1.0,\"#f0f921\"]],\"type\":\"histogram2d\"}],\"histogram2dcontour\":[{\"colorbar\":{\"outlinewidth\":0,\"ticks\":\"\"},\"colorscale\":[[0.0,\"#0d0887\"],[0.1111111111111111,\"#46039f\"],[0.2222222222222222,\"#7201a8\"],[0.3333333333333333,\"#9c179e\"],[0.4444444444444444,\"#bd3786\"],[0.5555555555555556,\"#d8576b\"],[0.6666666666666666,\"#ed7953\"],[0.7777777777777778,\"#fb9f3a\"],[0.8888888888888888,\"#fdca26\"],[1.0,\"#f0f921\"]],\"type\":\"histogram2dcontour\"}],\"mesh3d\":[{\"colorbar\":{\"outlinewidth\":0,\"ticks\":\"\"},\"type\":\"mesh3d\"}],\"parcoords\":[{\"line\":{\"colorbar\":{\"outlinewidth\":0,\"ticks\":\"\"}},\"type\":\"parcoords\"}],\"pie\":[{\"automargin\":true,\"type\":\"pie\"}],\"scatter\":[{\"marker\":{\"colorbar\":{\"outlinewidth\":0,\"ticks\":\"\"}},\"type\":\"scatter\"}],\"scatter3d\":[{\"line\":{\"colorbar\":{\"outlinewidth\":0,\"ticks\":\"\"}},\"marker\":{\"colorbar\":{\"outlinewidth\":0,\"ticks\":\"\"}},\"type\":\"scatter3d\"}],\"scattercarpet\":[{\"marker\":{\"colorbar\":{\"outlinewidth\":0,\"ticks\":\"\"}},\"type\":\"scattercarpet\"}],\"scattergeo\":[{\"marker\":{\"colorbar\":{\"outlinewidth\":0,\"ticks\":\"\"}},\"type\":\"scattergeo\"}],\"scattergl\":[{\"marker\":{\"colorbar\":{\"outlinewidth\":0,\"ticks\":\"\"}},\"type\":\"scattergl\"}],\"scattermapbox\":[{\"marker\":{\"colorbar\":{\"outlinewidth\":0,\"ticks\":\"\"}},\"type\":\"scattermapbox\"}],\"scatterpolar\":[{\"marker\":{\"colorbar\":{\"outlinewidth\":0,\"ticks\":\"\"}},\"type\":\"scatterpolar\"}],\"scatterpolargl\":[{\"marker\":{\"colorbar\":{\"outlinewidth\":0,\"ticks\":\"\"}},\"type\":\"scatterpolargl\"}],\"scatterternary\":[{\"marker\":{\"colorbar\":{\"outlinewidth\":0,\"ticks\":\"\"}},\"type\":\"scatterternary\"}],\"surface\":[{\"colorbar\":{\"outlinewidth\":0,\"ticks\":\"\"},\"colorscale\":[[0.0,\"#0d0887\"],[0.1111111111111111,\"#46039f\"],[0.2222222222222222,\"#7201a8\"],[0.3333333333333333,\"#9c179e\"],[0.4444444444444444,\"#bd3786\"],[0.5555555555555556,\"#d8576b\"],[0.6666666666666666,\"#ed7953\"],[0.7777777777777778,\"#fb9f3a\"],[0.8888888888888888,\"#fdca26\"],[1.0,\"#f0f921\"]],\"type\":\"surface\"}],\"table\":[{\"cells\":{\"fill\":{\"color\":\"#EBF0F8\"},\"line\":{\"color\":\"white\"}},\"header\":{\"fill\":{\"color\":\"#C8D4E3\"},\"line\":{\"color\":\"white\"}},\"type\":\"table\"}]},\"layout\":{\"annotationdefaults\":{\"arrowcolor\":\"#2a3f5f\",\"arrowhead\":0,\"arrowwidth\":1},\"autotypenumbers\":\"strict\",\"coloraxis\":{\"colorbar\":{\"outlinewidth\":0,\"ticks\":\"\"}},\"colorscale\":{\"diverging\":[[0,\"#8e0152\"],[0.1,\"#c51b7d\"],[0.2,\"#de77ae\"],[0.3,\"#f1b6da\"],[0.4,\"#fde0ef\"],[0.5,\"#f7f7f7\"],[0.6,\"#e6f5d0\"],[0.7,\"#b8e186\"],[0.8,\"#7fbc41\"],[0.9,\"#4d9221\"],[1,\"#276419\"]],\"sequential\":[[0.0,\"#0d0887\"],[0.1111111111111111,\"#46039f\"],[0.2222222222222222,\"#7201a8\"],[0.3333333333333333,\"#9c179e\"],[0.4444444444444444,\"#bd3786\"],[0.5555555555555556,\"#d8576b\"],[0.6666666666666666,\"#ed7953\"],[0.7777777777777778,\"#fb9f3a\"],[0.8888888888888888,\"#fdca26\"],[1.0,\"#f0f921\"]],\"sequentialminus\":[[0.0,\"#0d0887\"],[0.1111111111111111,\"#46039f\"],[0.2222222222222222,\"#7201a8\"],[0.3333333333333333,\"#9c179e\"],[0.4444444444444444,\"#bd3786\"],[0.5555555555555556,\"#d8576b\"],[0.6666666666666666,\"#ed7953\"],[0.7777777777777778,\"#fb9f3a\"],[0.8888888888888888,\"#fdca26\"],[1.0,\"#f0f921\"]]},\"colorway\":[\"#636efa\",\"#EF553B\",\"#00cc96\",\"#ab63fa\",\"#FFA15A\",\"#19d3f3\",\"#FF6692\",\"#B6E880\",\"#FF97FF\",\"#FECB52\"],\"font\":{\"color\":\"#2a3f5f\"},\"geo\":{\"bgcolor\":\"white\",\"lakecolor\":\"white\",\"landcolor\":\"#E5ECF6\",\"showlakes\":true,\"showland\":true,\"subunitcolor\":\"white\"},\"hoverlabel\":{\"align\":\"left\"},\"hovermode\":\"closest\",\"mapbox\":{\"style\":\"light\"},\"paper_bgcolor\":\"white\",\"plot_bgcolor\":\"#E5ECF6\",\"polar\":{\"angularaxis\":{\"gridcolor\":\"white\",\"linecolor\":\"white\",\"ticks\":\"\"},\"bgcolor\":\"#E5ECF6\",\"radialaxis\":{\"gridcolor\":\"white\",\"linecolor\":\"white\",\"ticks\":\"\"}},\"scene\":{\"xaxis\":{\"backgroundcolor\":\"#E5ECF6\",\"gridcolor\":\"white\",\"gridwidth\":2,\"linecolor\":\"white\",\"showbackground\":true,\"ticks\":\"\",\"zerolinecolor\":\"white\"},\"yaxis\":{\"backgroundcolor\":\"#E5ECF6\",\"gridcolor\":\"white\",\"gridwidth\":2,\"linecolor\":\"white\",\"showbackground\":true,\"ticks\":\"\",\"zerolinecolor\":\"white\"},\"zaxis\":{\"backgroundcolor\":\"#E5ECF6\",\"gridcolor\":\"white\",\"gridwidth\":2,\"linecolor\":\"white\",\"showbackground\":true,\"ticks\":\"\",\"zerolinecolor\":\"white\"}},\"shapedefaults\":{\"line\":{\"color\":\"#2a3f5f\"}},\"ternary\":{\"aaxis\":{\"gridcolor\":\"white\",\"linecolor\":\"white\",\"ticks\":\"\"},\"baxis\":{\"gridcolor\":\"white\",\"linecolor\":\"white\",\"ticks\":\"\"},\"bgcolor\":\"#E5ECF6\",\"caxis\":{\"gridcolor\":\"white\",\"linecolor\":\"white\",\"ticks\":\"\"}},\"title\":{\"x\":0.05},\"xaxis\":{\"automargin\":true,\"gridcolor\":\"white\",\"linecolor\":\"white\",\"ticks\":\"\",\"title\":{\"standoff\":15},\"zerolinecolor\":\"white\",\"zerolinewidth\":2},\"yaxis\":{\"automargin\":true,\"gridcolor\":\"white\",\"linecolor\":\"white\",\"ticks\":\"\",\"title\":{\"standoff\":15},\"zerolinecolor\":\"white\",\"zerolinewidth\":2}}},\"xaxis\":{\"anchor\":\"y\",\"domain\":[0.0,0.49],\"title\":{\"text\":\"version\"}},\"yaxis\":{\"anchor\":\"x\",\"domain\":[0.0,1.0],\"title\":{\"text\":\"Time Taken\"}},\"xaxis2\":{\"anchor\":\"y2\",\"domain\":[0.51,1.0],\"matches\":\"x\",\"title\":{\"text\":\"version\"}},\"yaxis2\":{\"anchor\":\"x2\",\"domain\":[0.0,1.0],\"matches\":\"y\",\"showticklabels\":false},\"annotations\":[{\"font\":{},\"showarrow\":false,\"text\":\"dataset=train\",\"x\":0.245,\"xanchor\":\"center\",\"xref\":\"paper\",\"y\":1.0,\"yanchor\":\"bottom\",\"yref\":\"paper\"},{\"font\":{},\"showarrow\":false,\"text\":\"dataset=test\",\"x\":0.755,\"xanchor\":\"center\",\"xref\":\"paper\",\"y\":1.0,\"yanchor\":\"bottom\",\"yref\":\"paper\"}],\"legend\":{\"tracegroupgap\":0},\"margin\":{\"t\":60},\"barmode\":\"relative\"},                        {\"responsive\": true}                    ).then(function(){\n",
              "                            \n",
              "var gd = document.getElementById('7c104ab7-0fa8-4458-a299-6f2f1c2be509');\n",
              "var x = new MutationObserver(function (mutations, observer) {{\n",
              "        var display = window.getComputedStyle(gd).display;\n",
              "        if (!display || display === 'none') {{\n",
              "            console.log([gd, 'removed!']);\n",
              "            Plotly.purge(gd);\n",
              "            observer.disconnect();\n",
              "        }}\n",
              "}});\n",
              "\n",
              "// Listen for the removal of the full notebook cells\n",
              "var notebookContainer = gd.closest('#notebook-container');\n",
              "if (notebookContainer) {{\n",
              "    x.observe(notebookContainer, {childList: true});\n",
              "}}\n",
              "\n",
              "// Listen for the clearing of the current output cell\n",
              "var outputEl = gd.closest('.output');\n",
              "if (outputEl) {{\n",
              "    x.observe(outputEl, {childList: true});\n",
              "}}\n",
              "\n",
              "                        })                };                            </script>        </div>\n",
              "</body>\n",
              "</html>"
            ]
          },
          "metadata": {}
        }
      ]
    },
    {
      "cell_type": "code",
      "source": [
        "px.bar(reconstructionErrorChartInfo, x=\"version\", y=\"Reconstruction Error\", facet_col=\"dataset\")"
      ],
      "metadata": {
        "colab": {
          "base_uri": "https://localhost:8080/",
          "height": 542
        },
        "id": "DlbJPs4pHS-Z",
        "outputId": "48daca3c-bc0d-4962-bbd4-88231808e783"
      },
      "execution_count": null,
      "outputs": [
        {
          "output_type": "display_data",
          "data": {
            "text/html": [
              "<html>\n",
              "<head><meta charset=\"utf-8\" /></head>\n",
              "<body>\n",
              "    <div>            <script src=\"https://cdnjs.cloudflare.com/ajax/libs/mathjax/2.7.5/MathJax.js?config=TeX-AMS-MML_SVG\"></script><script type=\"text/javascript\">if (window.MathJax) {MathJax.Hub.Config({SVG: {font: \"STIX-Web\"}});}</script>                <script type=\"text/javascript\">window.PlotlyConfig = {MathJaxConfig: 'local'};</script>\n",
              "        <script src=\"https://cdn.plot.ly/plotly-2.8.3.min.js\"></script>                <div id=\"35acc050-3e16-4854-80bb-740f054763ad\" class=\"plotly-graph-div\" style=\"height:525px; width:100%;\"></div>            <script type=\"text/javascript\">                                    window.PLOTLYENV=window.PLOTLYENV || {};                                    if (document.getElementById(\"35acc050-3e16-4854-80bb-740f054763ad\")) {                    Plotly.newPlot(                        \"35acc050-3e16-4854-80bb-740f054763ad\",                        [{\"alignmentgroup\":\"True\",\"hovertemplate\":\"dataset=train<br>version=%{x}<br>Reconstruction Error=%{y}<extra></extra>\",\"legendgroup\":\"\",\"marker\":{\"color\":\"#636efa\",\"pattern\":{\"shape\":\"\"}},\"name\":\"\",\"offsetgroup\":\"\",\"orientation\":\"v\",\"showlegend\":false,\"textposition\":\"auto\",\"x\":[\"original\",\"incremental(d=10)\",\"incremental(d=50)\",\"incremental(d=70)\",\"incremental(d=150)\"],\"xaxis\":\"x\",\"y\":[405.11380685802385,1118.241203422458,642.037081535883,528.8317957019868,347.7391437394757],\"yaxis\":\"y\",\"type\":\"bar\"},{\"alignmentgroup\":\"True\",\"hovertemplate\":\"dataset=test<br>version=%{x}<br>Reconstruction Error=%{y}<extra></extra>\",\"legendgroup\":\"\",\"marker\":{\"color\":\"#636efa\",\"pattern\":{\"shape\":\"\"}},\"name\":\"\",\"offsetgroup\":\"\",\"orientation\":\"v\",\"showlegend\":false,\"textposition\":\"auto\",\"x\":[\"original\",\"incremental(d=10)\",\"incremental(d=50)\",\"incremental(d=70)\",\"incremental(d=150)\"],\"xaxis\":\"x2\",\"y\":[642.2050579158112,1141.7549975682223,792.6521493698257,735.0096122484293,676.2200522370562],\"yaxis\":\"y2\",\"type\":\"bar\"}],                        {\"template\":{\"data\":{\"bar\":[{\"error_x\":{\"color\":\"#2a3f5f\"},\"error_y\":{\"color\":\"#2a3f5f\"},\"marker\":{\"line\":{\"color\":\"#E5ECF6\",\"width\":0.5},\"pattern\":{\"fillmode\":\"overlay\",\"size\":10,\"solidity\":0.2}},\"type\":\"bar\"}],\"barpolar\":[{\"marker\":{\"line\":{\"color\":\"#E5ECF6\",\"width\":0.5},\"pattern\":{\"fillmode\":\"overlay\",\"size\":10,\"solidity\":0.2}},\"type\":\"barpolar\"}],\"carpet\":[{\"aaxis\":{\"endlinecolor\":\"#2a3f5f\",\"gridcolor\":\"white\",\"linecolor\":\"white\",\"minorgridcolor\":\"white\",\"startlinecolor\":\"#2a3f5f\"},\"baxis\":{\"endlinecolor\":\"#2a3f5f\",\"gridcolor\":\"white\",\"linecolor\":\"white\",\"minorgridcolor\":\"white\",\"startlinecolor\":\"#2a3f5f\"},\"type\":\"carpet\"}],\"choropleth\":[{\"colorbar\":{\"outlinewidth\":0,\"ticks\":\"\"},\"type\":\"choropleth\"}],\"contour\":[{\"colorbar\":{\"outlinewidth\":0,\"ticks\":\"\"},\"colorscale\":[[0.0,\"#0d0887\"],[0.1111111111111111,\"#46039f\"],[0.2222222222222222,\"#7201a8\"],[0.3333333333333333,\"#9c179e\"],[0.4444444444444444,\"#bd3786\"],[0.5555555555555556,\"#d8576b\"],[0.6666666666666666,\"#ed7953\"],[0.7777777777777778,\"#fb9f3a\"],[0.8888888888888888,\"#fdca26\"],[1.0,\"#f0f921\"]],\"type\":\"contour\"}],\"contourcarpet\":[{\"colorbar\":{\"outlinewidth\":0,\"ticks\":\"\"},\"type\":\"contourcarpet\"}],\"heatmap\":[{\"colorbar\":{\"outlinewidth\":0,\"ticks\":\"\"},\"colorscale\":[[0.0,\"#0d0887\"],[0.1111111111111111,\"#46039f\"],[0.2222222222222222,\"#7201a8\"],[0.3333333333333333,\"#9c179e\"],[0.4444444444444444,\"#bd3786\"],[0.5555555555555556,\"#d8576b\"],[0.6666666666666666,\"#ed7953\"],[0.7777777777777778,\"#fb9f3a\"],[0.8888888888888888,\"#fdca26\"],[1.0,\"#f0f921\"]],\"type\":\"heatmap\"}],\"heatmapgl\":[{\"colorbar\":{\"outlinewidth\":0,\"ticks\":\"\"},\"colorscale\":[[0.0,\"#0d0887\"],[0.1111111111111111,\"#46039f\"],[0.2222222222222222,\"#7201a8\"],[0.3333333333333333,\"#9c179e\"],[0.4444444444444444,\"#bd3786\"],[0.5555555555555556,\"#d8576b\"],[0.6666666666666666,\"#ed7953\"],[0.7777777777777778,\"#fb9f3a\"],[0.8888888888888888,\"#fdca26\"],[1.0,\"#f0f921\"]],\"type\":\"heatmapgl\"}],\"histogram\":[{\"marker\":{\"pattern\":{\"fillmode\":\"overlay\",\"size\":10,\"solidity\":0.2}},\"type\":\"histogram\"}],\"histogram2d\":[{\"colorbar\":{\"outlinewidth\":0,\"ticks\":\"\"},\"colorscale\":[[0.0,\"#0d0887\"],[0.1111111111111111,\"#46039f\"],[0.2222222222222222,\"#7201a8\"],[0.3333333333333333,\"#9c179e\"],[0.4444444444444444,\"#bd3786\"],[0.5555555555555556,\"#d8576b\"],[0.6666666666666666,\"#ed7953\"],[0.7777777777777778,\"#fb9f3a\"],[0.8888888888888888,\"#fdca26\"],[1.0,\"#f0f921\"]],\"type\":\"histogram2d\"}],\"histogram2dcontour\":[{\"colorbar\":{\"outlinewidth\":0,\"ticks\":\"\"},\"colorscale\":[[0.0,\"#0d0887\"],[0.1111111111111111,\"#46039f\"],[0.2222222222222222,\"#7201a8\"],[0.3333333333333333,\"#9c179e\"],[0.4444444444444444,\"#bd3786\"],[0.5555555555555556,\"#d8576b\"],[0.6666666666666666,\"#ed7953\"],[0.7777777777777778,\"#fb9f3a\"],[0.8888888888888888,\"#fdca26\"],[1.0,\"#f0f921\"]],\"type\":\"histogram2dcontour\"}],\"mesh3d\":[{\"colorbar\":{\"outlinewidth\":0,\"ticks\":\"\"},\"type\":\"mesh3d\"}],\"parcoords\":[{\"line\":{\"colorbar\":{\"outlinewidth\":0,\"ticks\":\"\"}},\"type\":\"parcoords\"}],\"pie\":[{\"automargin\":true,\"type\":\"pie\"}],\"scatter\":[{\"marker\":{\"colorbar\":{\"outlinewidth\":0,\"ticks\":\"\"}},\"type\":\"scatter\"}],\"scatter3d\":[{\"line\":{\"colorbar\":{\"outlinewidth\":0,\"ticks\":\"\"}},\"marker\":{\"colorbar\":{\"outlinewidth\":0,\"ticks\":\"\"}},\"type\":\"scatter3d\"}],\"scattercarpet\":[{\"marker\":{\"colorbar\":{\"outlinewidth\":0,\"ticks\":\"\"}},\"type\":\"scattercarpet\"}],\"scattergeo\":[{\"marker\":{\"colorbar\":{\"outlinewidth\":0,\"ticks\":\"\"}},\"type\":\"scattergeo\"}],\"scattergl\":[{\"marker\":{\"colorbar\":{\"outlinewidth\":0,\"ticks\":\"\"}},\"type\":\"scattergl\"}],\"scattermapbox\":[{\"marker\":{\"colorbar\":{\"outlinewidth\":0,\"ticks\":\"\"}},\"type\":\"scattermapbox\"}],\"scatterpolar\":[{\"marker\":{\"colorbar\":{\"outlinewidth\":0,\"ticks\":\"\"}},\"type\":\"scatterpolar\"}],\"scatterpolargl\":[{\"marker\":{\"colorbar\":{\"outlinewidth\":0,\"ticks\":\"\"}},\"type\":\"scatterpolargl\"}],\"scatterternary\":[{\"marker\":{\"colorbar\":{\"outlinewidth\":0,\"ticks\":\"\"}},\"type\":\"scatterternary\"}],\"surface\":[{\"colorbar\":{\"outlinewidth\":0,\"ticks\":\"\"},\"colorscale\":[[0.0,\"#0d0887\"],[0.1111111111111111,\"#46039f\"],[0.2222222222222222,\"#7201a8\"],[0.3333333333333333,\"#9c179e\"],[0.4444444444444444,\"#bd3786\"],[0.5555555555555556,\"#d8576b\"],[0.6666666666666666,\"#ed7953\"],[0.7777777777777778,\"#fb9f3a\"],[0.8888888888888888,\"#fdca26\"],[1.0,\"#f0f921\"]],\"type\":\"surface\"}],\"table\":[{\"cells\":{\"fill\":{\"color\":\"#EBF0F8\"},\"line\":{\"color\":\"white\"}},\"header\":{\"fill\":{\"color\":\"#C8D4E3\"},\"line\":{\"color\":\"white\"}},\"type\":\"table\"}]},\"layout\":{\"annotationdefaults\":{\"arrowcolor\":\"#2a3f5f\",\"arrowhead\":0,\"arrowwidth\":1},\"autotypenumbers\":\"strict\",\"coloraxis\":{\"colorbar\":{\"outlinewidth\":0,\"ticks\":\"\"}},\"colorscale\":{\"diverging\":[[0,\"#8e0152\"],[0.1,\"#c51b7d\"],[0.2,\"#de77ae\"],[0.3,\"#f1b6da\"],[0.4,\"#fde0ef\"],[0.5,\"#f7f7f7\"],[0.6,\"#e6f5d0\"],[0.7,\"#b8e186\"],[0.8,\"#7fbc41\"],[0.9,\"#4d9221\"],[1,\"#276419\"]],\"sequential\":[[0.0,\"#0d0887\"],[0.1111111111111111,\"#46039f\"],[0.2222222222222222,\"#7201a8\"],[0.3333333333333333,\"#9c179e\"],[0.4444444444444444,\"#bd3786\"],[0.5555555555555556,\"#d8576b\"],[0.6666666666666666,\"#ed7953\"],[0.7777777777777778,\"#fb9f3a\"],[0.8888888888888888,\"#fdca26\"],[1.0,\"#f0f921\"]],\"sequentialminus\":[[0.0,\"#0d0887\"],[0.1111111111111111,\"#46039f\"],[0.2222222222222222,\"#7201a8\"],[0.3333333333333333,\"#9c179e\"],[0.4444444444444444,\"#bd3786\"],[0.5555555555555556,\"#d8576b\"],[0.6666666666666666,\"#ed7953\"],[0.7777777777777778,\"#fb9f3a\"],[0.8888888888888888,\"#fdca26\"],[1.0,\"#f0f921\"]]},\"colorway\":[\"#636efa\",\"#EF553B\",\"#00cc96\",\"#ab63fa\",\"#FFA15A\",\"#19d3f3\",\"#FF6692\",\"#B6E880\",\"#FF97FF\",\"#FECB52\"],\"font\":{\"color\":\"#2a3f5f\"},\"geo\":{\"bgcolor\":\"white\",\"lakecolor\":\"white\",\"landcolor\":\"#E5ECF6\",\"showlakes\":true,\"showland\":true,\"subunitcolor\":\"white\"},\"hoverlabel\":{\"align\":\"left\"},\"hovermode\":\"closest\",\"mapbox\":{\"style\":\"light\"},\"paper_bgcolor\":\"white\",\"plot_bgcolor\":\"#E5ECF6\",\"polar\":{\"angularaxis\":{\"gridcolor\":\"white\",\"linecolor\":\"white\",\"ticks\":\"\"},\"bgcolor\":\"#E5ECF6\",\"radialaxis\":{\"gridcolor\":\"white\",\"linecolor\":\"white\",\"ticks\":\"\"}},\"scene\":{\"xaxis\":{\"backgroundcolor\":\"#E5ECF6\",\"gridcolor\":\"white\",\"gridwidth\":2,\"linecolor\":\"white\",\"showbackground\":true,\"ticks\":\"\",\"zerolinecolor\":\"white\"},\"yaxis\":{\"backgroundcolor\":\"#E5ECF6\",\"gridcolor\":\"white\",\"gridwidth\":2,\"linecolor\":\"white\",\"showbackground\":true,\"ticks\":\"\",\"zerolinecolor\":\"white\"},\"zaxis\":{\"backgroundcolor\":\"#E5ECF6\",\"gridcolor\":\"white\",\"gridwidth\":2,\"linecolor\":\"white\",\"showbackground\":true,\"ticks\":\"\",\"zerolinecolor\":\"white\"}},\"shapedefaults\":{\"line\":{\"color\":\"#2a3f5f\"}},\"ternary\":{\"aaxis\":{\"gridcolor\":\"white\",\"linecolor\":\"white\",\"ticks\":\"\"},\"baxis\":{\"gridcolor\":\"white\",\"linecolor\":\"white\",\"ticks\":\"\"},\"bgcolor\":\"#E5ECF6\",\"caxis\":{\"gridcolor\":\"white\",\"linecolor\":\"white\",\"ticks\":\"\"}},\"title\":{\"x\":0.05},\"xaxis\":{\"automargin\":true,\"gridcolor\":\"white\",\"linecolor\":\"white\",\"ticks\":\"\",\"title\":{\"standoff\":15},\"zerolinecolor\":\"white\",\"zerolinewidth\":2},\"yaxis\":{\"automargin\":true,\"gridcolor\":\"white\",\"linecolor\":\"white\",\"ticks\":\"\",\"title\":{\"standoff\":15},\"zerolinecolor\":\"white\",\"zerolinewidth\":2}}},\"xaxis\":{\"anchor\":\"y\",\"domain\":[0.0,0.49],\"title\":{\"text\":\"version\"}},\"yaxis\":{\"anchor\":\"x\",\"domain\":[0.0,1.0],\"title\":{\"text\":\"Reconstruction Error\"}},\"xaxis2\":{\"anchor\":\"y2\",\"domain\":[0.51,1.0],\"matches\":\"x\",\"title\":{\"text\":\"version\"}},\"yaxis2\":{\"anchor\":\"x2\",\"domain\":[0.0,1.0],\"matches\":\"y\",\"showticklabels\":false},\"annotations\":[{\"font\":{},\"showarrow\":false,\"text\":\"dataset=train\",\"x\":0.245,\"xanchor\":\"center\",\"xref\":\"paper\",\"y\":1.0,\"yanchor\":\"bottom\",\"yref\":\"paper\"},{\"font\":{},\"showarrow\":false,\"text\":\"dataset=test\",\"x\":0.755,\"xanchor\":\"center\",\"xref\":\"paper\",\"y\":1.0,\"yanchor\":\"bottom\",\"yref\":\"paper\"}],\"legend\":{\"tracegroupgap\":0},\"margin\":{\"t\":60},\"barmode\":\"relative\"},                        {\"responsive\": true}                    ).then(function(){\n",
              "                            \n",
              "var gd = document.getElementById('35acc050-3e16-4854-80bb-740f054763ad');\n",
              "var x = new MutationObserver(function (mutations, observer) {{\n",
              "        var display = window.getComputedStyle(gd).display;\n",
              "        if (!display || display === 'none') {{\n",
              "            console.log([gd, 'removed!']);\n",
              "            Plotly.purge(gd);\n",
              "            observer.disconnect();\n",
              "        }}\n",
              "}});\n",
              "\n",
              "// Listen for the removal of the full notebook cells\n",
              "var notebookContainer = gd.closest('#notebook-container');\n",
              "if (notebookContainer) {{\n",
              "    x.observe(notebookContainer, {childList: true});\n",
              "}}\n",
              "\n",
              "// Listen for the clearing of the current output cell\n",
              "var outputEl = gd.closest('.output');\n",
              "if (outputEl) {{\n",
              "    x.observe(outputEl, {childList: true});\n",
              "}}\n",
              "\n",
              "                        })                };                            </script>        </div>\n",
              "</body>\n",
              "</html>"
            ]
          },
          "metadata": {}
        }
      ]
    },
    {
      "cell_type": "code",
      "source": [
        "px.line(scoreChartInfo, x=\"k\", y=\"KNN Classifier Score\", color=\"version\", facet_col=\"dataset\")"
      ],
      "metadata": {
        "colab": {
          "base_uri": "https://localhost:8080/",
          "height": 542
        },
        "id": "HmL0NH-ZDnAi",
        "outputId": "0ba0b8fb-bdb9-4f63-efdd-7ede5dc129b7"
      },
      "execution_count": null,
      "outputs": [
        {
          "output_type": "display_data",
          "data": {
            "text/html": [
              "<html>\n",
              "<head><meta charset=\"utf-8\" /></head>\n",
              "<body>\n",
              "    <div>            <script src=\"https://cdnjs.cloudflare.com/ajax/libs/mathjax/2.7.5/MathJax.js?config=TeX-AMS-MML_SVG\"></script><script type=\"text/javascript\">if (window.MathJax) {MathJax.Hub.Config({SVG: {font: \"STIX-Web\"}});}</script>                <script type=\"text/javascript\">window.PlotlyConfig = {MathJaxConfig: 'local'};</script>\n",
              "        <script src=\"https://cdn.plot.ly/plotly-2.8.3.min.js\"></script>                <div id=\"1e0a1815-290c-4f8c-be48-f1a1233578a9\" class=\"plotly-graph-div\" style=\"height:525px; width:100%;\"></div>            <script type=\"text/javascript\">                                    window.PLOTLYENV=window.PLOTLYENV || {};                                    if (document.getElementById(\"1e0a1815-290c-4f8c-be48-f1a1233578a9\")) {                    Plotly.newPlot(                        \"1e0a1815-290c-4f8c-be48-f1a1233578a9\",                        [{\"hovertemplate\":\"version=original<br>dataset=train<br>k=%{x}<br>KNN Classifier Score=%{y}<extra></extra>\",\"legendgroup\":\"original\",\"line\":{\"color\":\"#636efa\",\"dash\":\"solid\"},\"marker\":{\"symbol\":\"circle\"},\"mode\":\"lines\",\"name\":\"original\",\"orientation\":\"v\",\"showlegend\":true,\"x\":[1,2,3,4,5,6,7,8,9],\"xaxis\":\"x\",\"y\":[1.0,0.7668269230769231,0.7451923076923077,0.6995192307692307,0.6610576923076923,0.6322115384615384,0.6033653846153846,0.5769230769230769,0.5504807692307693],\"yaxis\":\"y\",\"type\":\"scatter\"},{\"hovertemplate\":\"version=original<br>dataset=test<br>k=%{x}<br>KNN Classifier Score=%{y}<extra></extra>\",\"legendgroup\":\"original\",\"line\":{\"color\":\"#636efa\",\"dash\":\"solid\"},\"marker\":{\"symbol\":\"circle\"},\"mode\":\"lines\",\"name\":\"original\",\"orientation\":\"v\",\"showlegend\":false,\"x\":[1,2,3,4,5,6,7,8,9],\"xaxis\":\"x2\",\"y\":[0.5096153846153846,0.47115384615384615,0.4423076923076923,0.41346153846153844,0.41346153846153844,0.4326923076923077,0.38461538461538464,0.3942307692307692,0.36538461538461536],\"yaxis\":\"y2\",\"type\":\"scatter\"},{\"hovertemplate\":\"version=incremental(d=10)<br>dataset=train<br>k=%{x}<br>KNN Classifier Score=%{y}<extra></extra>\",\"legendgroup\":\"incremental(d=10)\",\"line\":{\"color\":\"#EF553B\",\"dash\":\"solid\"},\"marker\":{\"symbol\":\"circle\"},\"mode\":\"lines\",\"name\":\"incremental(d=10)\",\"orientation\":\"v\",\"showlegend\":true,\"x\":[1,2,3,4,5,6,7,8,9],\"xaxis\":\"x\",\"y\":[1.0,0.7211538461538461,0.6706730769230769,0.6322115384615384,0.6105769230769231,0.5961538461538461,0.5552884615384616,0.5192307692307693,0.4951923076923077],\"yaxis\":\"y\",\"type\":\"scatter\"},{\"hovertemplate\":\"version=incremental(d=10)<br>dataset=test<br>k=%{x}<br>KNN Classifier Score=%{y}<extra></extra>\",\"legendgroup\":\"incremental(d=10)\",\"line\":{\"color\":\"#EF553B\",\"dash\":\"solid\"},\"marker\":{\"symbol\":\"circle\"},\"mode\":\"lines\",\"name\":\"incremental(d=10)\",\"orientation\":\"v\",\"showlegend\":false,\"x\":[1,2,3,4,5,6,7,8,9],\"xaxis\":\"x2\",\"y\":[0.38461538461538464,0.3942307692307692,0.41346153846153844,0.38461538461538464,0.38461538461538464,0.36538461538461536,0.3557692307692308,0.3557692307692308,0.3269230769230769],\"yaxis\":\"y2\",\"type\":\"scatter\"},{\"hovertemplate\":\"version=incremental(d=50)<br>dataset=train<br>k=%{x}<br>KNN Classifier Score=%{y}<extra></extra>\",\"legendgroup\":\"incremental(d=50)\",\"line\":{\"color\":\"#00cc96\",\"dash\":\"solid\"},\"marker\":{\"symbol\":\"circle\"},\"mode\":\"lines\",\"name\":\"incremental(d=50)\",\"orientation\":\"v\",\"showlegend\":true,\"x\":[1,2,3,4,5,6,7,8,9],\"xaxis\":\"x\",\"y\":[1.0,0.7524038461538461,0.7524038461538461,0.7043269230769231,0.6971153846153846,0.6730769230769231,0.6153846153846154,0.5697115384615384,0.5697115384615384],\"yaxis\":\"y\",\"type\":\"scatter\"},{\"hovertemplate\":\"version=incremental(d=50)<br>dataset=test<br>k=%{x}<br>KNN Classifier Score=%{y}<extra></extra>\",\"legendgroup\":\"incremental(d=50)\",\"line\":{\"color\":\"#00cc96\",\"dash\":\"solid\"},\"marker\":{\"symbol\":\"circle\"},\"mode\":\"lines\",\"name\":\"incremental(d=50)\",\"orientation\":\"v\",\"showlegend\":false,\"x\":[1,2,3,4,5,6,7,8,9],\"xaxis\":\"x2\",\"y\":[0.5384615384615384,0.4807692307692308,0.4519230769230769,0.4230769230769231,0.3942307692307692,0.4230769230769231,0.4230769230769231,0.4423076923076923,0.4230769230769231],\"yaxis\":\"y2\",\"type\":\"scatter\"},{\"hovertemplate\":\"version=incremental(d=70)<br>dataset=train<br>k=%{x}<br>KNN Classifier Score=%{y}<extra></extra>\",\"legendgroup\":\"incremental(d=70)\",\"line\":{\"color\":\"#ab63fa\",\"dash\":\"solid\"},\"marker\":{\"symbol\":\"circle\"},\"mode\":\"lines\",\"name\":\"incremental(d=70)\",\"orientation\":\"v\",\"showlegend\":true,\"x\":[1,2,3,4,5,6,7,8,9],\"xaxis\":\"x\",\"y\":[1.0,0.7475961538461539,0.7451923076923077,0.6971153846153846,0.6899038461538461,0.6610576923076923,0.6153846153846154,0.59375,0.5769230769230769],\"yaxis\":\"y\",\"type\":\"scatter\"},{\"hovertemplate\":\"version=incremental(d=70)<br>dataset=test<br>k=%{x}<br>KNN Classifier Score=%{y}<extra></extra>\",\"legendgroup\":\"incremental(d=70)\",\"line\":{\"color\":\"#ab63fa\",\"dash\":\"solid\"},\"marker\":{\"symbol\":\"circle\"},\"mode\":\"lines\",\"name\":\"incremental(d=70)\",\"orientation\":\"v\",\"showlegend\":false,\"x\":[1,2,3,4,5,6,7,8,9],\"xaxis\":\"x2\",\"y\":[0.5288461538461539,0.4807692307692308,0.4326923076923077,0.4326923076923077,0.40384615384615385,0.4230769230769231,0.40384615384615385,0.4230769230769231,0.41346153846153844],\"yaxis\":\"y2\",\"type\":\"scatter\"},{\"hovertemplate\":\"version=incremental(d=150)<br>dataset=train<br>k=%{x}<br>KNN Classifier Score=%{y}<extra></extra>\",\"legendgroup\":\"incremental(d=150)\",\"line\":{\"color\":\"#FFA15A\",\"dash\":\"solid\"},\"marker\":{\"symbol\":\"circle\"},\"mode\":\"lines\",\"name\":\"incremental(d=150)\",\"orientation\":\"v\",\"showlegend\":true,\"x\":[1,2,3,4,5,6,7,8,9],\"xaxis\":\"x\",\"y\":[1.0,0.7548076923076923,0.7451923076923077,0.7019230769230769,0.6826923076923077,0.6418269230769231,0.6225961538461539,0.5841346153846154,0.5889423076923077],\"yaxis\":\"y\",\"type\":\"scatter\"},{\"hovertemplate\":\"version=incremental(d=150)<br>dataset=test<br>k=%{x}<br>KNN Classifier Score=%{y}<extra></extra>\",\"legendgroup\":\"incremental(d=150)\",\"line\":{\"color\":\"#FFA15A\",\"dash\":\"solid\"},\"marker\":{\"symbol\":\"circle\"},\"mode\":\"lines\",\"name\":\"incremental(d=150)\",\"orientation\":\"v\",\"showlegend\":false,\"x\":[1,2,3,4,5,6,7,8,9],\"xaxis\":\"x2\",\"y\":[0.5576923076923077,0.49038461538461536,0.4423076923076923,0.46153846153846156,0.40384615384615385,0.3942307692307692,0.40384615384615385,0.4326923076923077,0.4326923076923077],\"yaxis\":\"y2\",\"type\":\"scatter\"}],                        {\"template\":{\"data\":{\"bar\":[{\"error_x\":{\"color\":\"#2a3f5f\"},\"error_y\":{\"color\":\"#2a3f5f\"},\"marker\":{\"line\":{\"color\":\"#E5ECF6\",\"width\":0.5},\"pattern\":{\"fillmode\":\"overlay\",\"size\":10,\"solidity\":0.2}},\"type\":\"bar\"}],\"barpolar\":[{\"marker\":{\"line\":{\"color\":\"#E5ECF6\",\"width\":0.5},\"pattern\":{\"fillmode\":\"overlay\",\"size\":10,\"solidity\":0.2}},\"type\":\"barpolar\"}],\"carpet\":[{\"aaxis\":{\"endlinecolor\":\"#2a3f5f\",\"gridcolor\":\"white\",\"linecolor\":\"white\",\"minorgridcolor\":\"white\",\"startlinecolor\":\"#2a3f5f\"},\"baxis\":{\"endlinecolor\":\"#2a3f5f\",\"gridcolor\":\"white\",\"linecolor\":\"white\",\"minorgridcolor\":\"white\",\"startlinecolor\":\"#2a3f5f\"},\"type\":\"carpet\"}],\"choropleth\":[{\"colorbar\":{\"outlinewidth\":0,\"ticks\":\"\"},\"type\":\"choropleth\"}],\"contour\":[{\"colorbar\":{\"outlinewidth\":0,\"ticks\":\"\"},\"colorscale\":[[0.0,\"#0d0887\"],[0.1111111111111111,\"#46039f\"],[0.2222222222222222,\"#7201a8\"],[0.3333333333333333,\"#9c179e\"],[0.4444444444444444,\"#bd3786\"],[0.5555555555555556,\"#d8576b\"],[0.6666666666666666,\"#ed7953\"],[0.7777777777777778,\"#fb9f3a\"],[0.8888888888888888,\"#fdca26\"],[1.0,\"#f0f921\"]],\"type\":\"contour\"}],\"contourcarpet\":[{\"colorbar\":{\"outlinewidth\":0,\"ticks\":\"\"},\"type\":\"contourcarpet\"}],\"heatmap\":[{\"colorbar\":{\"outlinewidth\":0,\"ticks\":\"\"},\"colorscale\":[[0.0,\"#0d0887\"],[0.1111111111111111,\"#46039f\"],[0.2222222222222222,\"#7201a8\"],[0.3333333333333333,\"#9c179e\"],[0.4444444444444444,\"#bd3786\"],[0.5555555555555556,\"#d8576b\"],[0.6666666666666666,\"#ed7953\"],[0.7777777777777778,\"#fb9f3a\"],[0.8888888888888888,\"#fdca26\"],[1.0,\"#f0f921\"]],\"type\":\"heatmap\"}],\"heatmapgl\":[{\"colorbar\":{\"outlinewidth\":0,\"ticks\":\"\"},\"colorscale\":[[0.0,\"#0d0887\"],[0.1111111111111111,\"#46039f\"],[0.2222222222222222,\"#7201a8\"],[0.3333333333333333,\"#9c179e\"],[0.4444444444444444,\"#bd3786\"],[0.5555555555555556,\"#d8576b\"],[0.6666666666666666,\"#ed7953\"],[0.7777777777777778,\"#fb9f3a\"],[0.8888888888888888,\"#fdca26\"],[1.0,\"#f0f921\"]],\"type\":\"heatmapgl\"}],\"histogram\":[{\"marker\":{\"pattern\":{\"fillmode\":\"overlay\",\"size\":10,\"solidity\":0.2}},\"type\":\"histogram\"}],\"histogram2d\":[{\"colorbar\":{\"outlinewidth\":0,\"ticks\":\"\"},\"colorscale\":[[0.0,\"#0d0887\"],[0.1111111111111111,\"#46039f\"],[0.2222222222222222,\"#7201a8\"],[0.3333333333333333,\"#9c179e\"],[0.4444444444444444,\"#bd3786\"],[0.5555555555555556,\"#d8576b\"],[0.6666666666666666,\"#ed7953\"],[0.7777777777777778,\"#fb9f3a\"],[0.8888888888888888,\"#fdca26\"],[1.0,\"#f0f921\"]],\"type\":\"histogram2d\"}],\"histogram2dcontour\":[{\"colorbar\":{\"outlinewidth\":0,\"ticks\":\"\"},\"colorscale\":[[0.0,\"#0d0887\"],[0.1111111111111111,\"#46039f\"],[0.2222222222222222,\"#7201a8\"],[0.3333333333333333,\"#9c179e\"],[0.4444444444444444,\"#bd3786\"],[0.5555555555555556,\"#d8576b\"],[0.6666666666666666,\"#ed7953\"],[0.7777777777777778,\"#fb9f3a\"],[0.8888888888888888,\"#fdca26\"],[1.0,\"#f0f921\"]],\"type\":\"histogram2dcontour\"}],\"mesh3d\":[{\"colorbar\":{\"outlinewidth\":0,\"ticks\":\"\"},\"type\":\"mesh3d\"}],\"parcoords\":[{\"line\":{\"colorbar\":{\"outlinewidth\":0,\"ticks\":\"\"}},\"type\":\"parcoords\"}],\"pie\":[{\"automargin\":true,\"type\":\"pie\"}],\"scatter\":[{\"marker\":{\"colorbar\":{\"outlinewidth\":0,\"ticks\":\"\"}},\"type\":\"scatter\"}],\"scatter3d\":[{\"line\":{\"colorbar\":{\"outlinewidth\":0,\"ticks\":\"\"}},\"marker\":{\"colorbar\":{\"outlinewidth\":0,\"ticks\":\"\"}},\"type\":\"scatter3d\"}],\"scattercarpet\":[{\"marker\":{\"colorbar\":{\"outlinewidth\":0,\"ticks\":\"\"}},\"type\":\"scattercarpet\"}],\"scattergeo\":[{\"marker\":{\"colorbar\":{\"outlinewidth\":0,\"ticks\":\"\"}},\"type\":\"scattergeo\"}],\"scattergl\":[{\"marker\":{\"colorbar\":{\"outlinewidth\":0,\"ticks\":\"\"}},\"type\":\"scattergl\"}],\"scattermapbox\":[{\"marker\":{\"colorbar\":{\"outlinewidth\":0,\"ticks\":\"\"}},\"type\":\"scattermapbox\"}],\"scatterpolar\":[{\"marker\":{\"colorbar\":{\"outlinewidth\":0,\"ticks\":\"\"}},\"type\":\"scatterpolar\"}],\"scatterpolargl\":[{\"marker\":{\"colorbar\":{\"outlinewidth\":0,\"ticks\":\"\"}},\"type\":\"scatterpolargl\"}],\"scatterternary\":[{\"marker\":{\"colorbar\":{\"outlinewidth\":0,\"ticks\":\"\"}},\"type\":\"scatterternary\"}],\"surface\":[{\"colorbar\":{\"outlinewidth\":0,\"ticks\":\"\"},\"colorscale\":[[0.0,\"#0d0887\"],[0.1111111111111111,\"#46039f\"],[0.2222222222222222,\"#7201a8\"],[0.3333333333333333,\"#9c179e\"],[0.4444444444444444,\"#bd3786\"],[0.5555555555555556,\"#d8576b\"],[0.6666666666666666,\"#ed7953\"],[0.7777777777777778,\"#fb9f3a\"],[0.8888888888888888,\"#fdca26\"],[1.0,\"#f0f921\"]],\"type\":\"surface\"}],\"table\":[{\"cells\":{\"fill\":{\"color\":\"#EBF0F8\"},\"line\":{\"color\":\"white\"}},\"header\":{\"fill\":{\"color\":\"#C8D4E3\"},\"line\":{\"color\":\"white\"}},\"type\":\"table\"}]},\"layout\":{\"annotationdefaults\":{\"arrowcolor\":\"#2a3f5f\",\"arrowhead\":0,\"arrowwidth\":1},\"autotypenumbers\":\"strict\",\"coloraxis\":{\"colorbar\":{\"outlinewidth\":0,\"ticks\":\"\"}},\"colorscale\":{\"diverging\":[[0,\"#8e0152\"],[0.1,\"#c51b7d\"],[0.2,\"#de77ae\"],[0.3,\"#f1b6da\"],[0.4,\"#fde0ef\"],[0.5,\"#f7f7f7\"],[0.6,\"#e6f5d0\"],[0.7,\"#b8e186\"],[0.8,\"#7fbc41\"],[0.9,\"#4d9221\"],[1,\"#276419\"]],\"sequential\":[[0.0,\"#0d0887\"],[0.1111111111111111,\"#46039f\"],[0.2222222222222222,\"#7201a8\"],[0.3333333333333333,\"#9c179e\"],[0.4444444444444444,\"#bd3786\"],[0.5555555555555556,\"#d8576b\"],[0.6666666666666666,\"#ed7953\"],[0.7777777777777778,\"#fb9f3a\"],[0.8888888888888888,\"#fdca26\"],[1.0,\"#f0f921\"]],\"sequentialminus\":[[0.0,\"#0d0887\"],[0.1111111111111111,\"#46039f\"],[0.2222222222222222,\"#7201a8\"],[0.3333333333333333,\"#9c179e\"],[0.4444444444444444,\"#bd3786\"],[0.5555555555555556,\"#d8576b\"],[0.6666666666666666,\"#ed7953\"],[0.7777777777777778,\"#fb9f3a\"],[0.8888888888888888,\"#fdca26\"],[1.0,\"#f0f921\"]]},\"colorway\":[\"#636efa\",\"#EF553B\",\"#00cc96\",\"#ab63fa\",\"#FFA15A\",\"#19d3f3\",\"#FF6692\",\"#B6E880\",\"#FF97FF\",\"#FECB52\"],\"font\":{\"color\":\"#2a3f5f\"},\"geo\":{\"bgcolor\":\"white\",\"lakecolor\":\"white\",\"landcolor\":\"#E5ECF6\",\"showlakes\":true,\"showland\":true,\"subunitcolor\":\"white\"},\"hoverlabel\":{\"align\":\"left\"},\"hovermode\":\"closest\",\"mapbox\":{\"style\":\"light\"},\"paper_bgcolor\":\"white\",\"plot_bgcolor\":\"#E5ECF6\",\"polar\":{\"angularaxis\":{\"gridcolor\":\"white\",\"linecolor\":\"white\",\"ticks\":\"\"},\"bgcolor\":\"#E5ECF6\",\"radialaxis\":{\"gridcolor\":\"white\",\"linecolor\":\"white\",\"ticks\":\"\"}},\"scene\":{\"xaxis\":{\"backgroundcolor\":\"#E5ECF6\",\"gridcolor\":\"white\",\"gridwidth\":2,\"linecolor\":\"white\",\"showbackground\":true,\"ticks\":\"\",\"zerolinecolor\":\"white\"},\"yaxis\":{\"backgroundcolor\":\"#E5ECF6\",\"gridcolor\":\"white\",\"gridwidth\":2,\"linecolor\":\"white\",\"showbackground\":true,\"ticks\":\"\",\"zerolinecolor\":\"white\"},\"zaxis\":{\"backgroundcolor\":\"#E5ECF6\",\"gridcolor\":\"white\",\"gridwidth\":2,\"linecolor\":\"white\",\"showbackground\":true,\"ticks\":\"\",\"zerolinecolor\":\"white\"}},\"shapedefaults\":{\"line\":{\"color\":\"#2a3f5f\"}},\"ternary\":{\"aaxis\":{\"gridcolor\":\"white\",\"linecolor\":\"white\",\"ticks\":\"\"},\"baxis\":{\"gridcolor\":\"white\",\"linecolor\":\"white\",\"ticks\":\"\"},\"bgcolor\":\"#E5ECF6\",\"caxis\":{\"gridcolor\":\"white\",\"linecolor\":\"white\",\"ticks\":\"\"}},\"title\":{\"x\":0.05},\"xaxis\":{\"automargin\":true,\"gridcolor\":\"white\",\"linecolor\":\"white\",\"ticks\":\"\",\"title\":{\"standoff\":15},\"zerolinecolor\":\"white\",\"zerolinewidth\":2},\"yaxis\":{\"automargin\":true,\"gridcolor\":\"white\",\"linecolor\":\"white\",\"ticks\":\"\",\"title\":{\"standoff\":15},\"zerolinecolor\":\"white\",\"zerolinewidth\":2}}},\"xaxis\":{\"anchor\":\"y\",\"domain\":[0.0,0.49],\"title\":{\"text\":\"k\"}},\"yaxis\":{\"anchor\":\"x\",\"domain\":[0.0,1.0],\"title\":{\"text\":\"KNN Classifier Score\"}},\"xaxis2\":{\"anchor\":\"y2\",\"domain\":[0.51,1.0],\"matches\":\"x\",\"title\":{\"text\":\"k\"}},\"yaxis2\":{\"anchor\":\"x2\",\"domain\":[0.0,1.0],\"matches\":\"y\",\"showticklabels\":false},\"annotations\":[{\"font\":{},\"showarrow\":false,\"text\":\"dataset=train\",\"x\":0.245,\"xanchor\":\"center\",\"xref\":\"paper\",\"y\":1.0,\"yanchor\":\"bottom\",\"yref\":\"paper\"},{\"font\":{},\"showarrow\":false,\"text\":\"dataset=test\",\"x\":0.755,\"xanchor\":\"center\",\"xref\":\"paper\",\"y\":1.0,\"yanchor\":\"bottom\",\"yref\":\"paper\"}],\"legend\":{\"title\":{\"text\":\"version\"},\"tracegroupgap\":0},\"margin\":{\"t\":60}},                        {\"responsive\": true}                    ).then(function(){\n",
              "                            \n",
              "var gd = document.getElementById('1e0a1815-290c-4f8c-be48-f1a1233578a9');\n",
              "var x = new MutationObserver(function (mutations, observer) {{\n",
              "        var display = window.getComputedStyle(gd).display;\n",
              "        if (!display || display === 'none') {{\n",
              "            console.log([gd, 'removed!']);\n",
              "            Plotly.purge(gd);\n",
              "            observer.disconnect();\n",
              "        }}\n",
              "}});\n",
              "\n",
              "// Listen for the removal of the full notebook cells\n",
              "var notebookContainer = gd.closest('#notebook-container');\n",
              "if (notebookContainer) {{\n",
              "    x.observe(notebookContainer, {childList: true});\n",
              "}}\n",
              "\n",
              "// Listen for the clearing of the current output cell\n",
              "var outputEl = gd.closest('.output');\n",
              "if (outputEl) {{\n",
              "    x.observe(outputEl, {childList: true});\n",
              "}}\n",
              "\n",
              "                        })                };                            </script>        </div>\n",
              "</body>\n",
              "</html>"
            ]
          },
          "metadata": {}
        }
      ]
    }
  ]
}